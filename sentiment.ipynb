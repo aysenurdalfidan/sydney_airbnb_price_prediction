{
 "cells": [
  {
   "cell_type": "code",
   "execution_count": null,
   "id": "b44f2f2c-0de2-43dd-a618-fa14a8bfc58e",
   "metadata": {},
   "outputs": [],
   "source": [
    "import pandas as pd"
   ]
  },
  {
   "cell_type": "code",
   "execution_count": null,
   "id": "a6542dd7-2597-4b5a-b90b-a968c031e41b",
   "metadata": {},
   "outputs": [],
   "source": [
    "reviews = pd.read_csv(\"reviews.csv\")"
   ]
  },
  {
   "cell_type": "code",
   "execution_count": null,
   "id": "32e7d090-3075-47d9-a78d-bc15d203a3c0",
   "metadata": {},
   "outputs": [],
   "source": [
    "listings = pd.read_csv(\"airbnb_sydney.csv\")"
   ]
  },
  {
   "cell_type": "code",
   "execution_count": null,
   "id": "836eb067-1075-4d51-b906-57b7b8c14166",
   "metadata": {},
   "outputs": [],
   "source": [
    "reviews[\"listing_id\"].isin(listings[\"id\"]).mean()"
   ]
  },
  {
   "cell_type": "code",
   "execution_count": null,
   "id": "e013556d-950c-4f49-9af9-3fabb9cb0b65",
   "metadata": {},
   "outputs": [],
   "source": [
    "reviews = reviews[reviews[\"comments\"].notnull()]"
   ]
  },
  {
   "cell_type": "code",
   "execution_count": null,
   "id": "249b4e8a-1858-43ad-843e-de66e12f9d3d",
   "metadata": {},
   "outputs": [],
   "source": [
    "from textblob import TextBlob\n",
    "\n",
    "reviews[\"sentiment_score\"] = reviews[\"comments\"].apply(\n",
    "    lambda x: TextBlob(str(x)).sentiment.polarity\n",
    ")"
   ]
  },
  {
   "cell_type": "code",
   "execution_count": null,
   "id": "c37c95ae-ec1b-45e4-872a-01857ea1f685",
   "metadata": {},
   "outputs": [],
   "source": [
    "avg_sentiment = reviews.groupby(\"listing_id\")[\"sentiment_score\"].mean().reset_index()\n",
    "\n",
    "avg_sentiment.rename(columns={\n",
    "    \"listing_id\": \"id\",\n",
    "    \"sentiment_score\": \"avg_sentiment_score\"\n",
    "}, inplace=True)\n",
    "\n",
    "listings_with_sentiment = pd.merge(listings, avg_sentiment, how=\"left\", on=\"id\")\n",
    "\n",
    "listings_with_sentiment[\"avg_sentiment_score\"].fillna(0, inplace=True)\n",
    "\n",
    "listings_with_sentiment.to_csv(\"airbnb_with_sentiment.csv\", index=False)"
   ]
  }
 ],
 "metadata": {
  "kernelspec": {
   "display_name": "Python [conda env:base] *",
   "language": "python",
   "name": "conda-base-py"
  },
  "language_info": {
   "codemirror_mode": {
    "name": "ipython",
    "version": 3
   },
   "file_extension": ".py",
   "mimetype": "text/x-python",
   "name": "python",
   "nbconvert_exporter": "python",
   "pygments_lexer": "ipython3",
   "version": "3.12.7"
  }
 },
 "nbformat": 4,
 "nbformat_minor": 5
}
